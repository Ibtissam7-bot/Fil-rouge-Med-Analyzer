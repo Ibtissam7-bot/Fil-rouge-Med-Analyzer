{
 "cells": [
  {
   "cell_type": "markdown",
   "id": "0709cc33",
   "metadata": {},
   "source": [
    "## Importations"
   ]
  },
  {
   "cell_type": "code",
   "execution_count": 78,
   "id": "c2f6ff9b",
   "metadata": {},
   "outputs": [],
   "source": [
    "import pandas as pd \n",
    "import numpy as np\n",
    "import os\n",
    "from pathlib import Path\n",
    "import json"
   ]
  },
  {
   "cell_type": "markdown",
   "id": "cf8dfe4f",
   "metadata": {},
   "source": [
    "### Configuration des chemins et création du dossier de sortie des datasets"
   ]
  },
  {
   "cell_type": "code",
   "execution_count": 79,
   "id": "157a970a",
   "metadata": {},
   "outputs": [],
   "source": [
    "BASE_PATH=Path(r\"C:\\Users\\Infinix\\Desktop\\Projet fil rouge\\data\\raw\")\n",
    "OUTPUT_PATH=Path(r\"C:\\Users\\Infinix\\Desktop\\Projet fil rouge\\data\\processed\")\n",
    "OUTPUT_PATH.mkdir(parents=True, exist_ok=True)"
   ]
  },
  {
   "cell_type": "code",
   "execution_count": 80,
   "id": "86c714fb",
   "metadata": {},
   "outputs": [
    {
     "name": "stdout",
     "output_type": "stream",
     "text": [
      "ÉTAPE 1 : Chargement du dataset principal...\n",
      " Dataset principal chargé: 4920 lignes, 18 colonnes\n",
      "   Maladies uniques: 41\n"
     ]
    }
   ],
   "source": [
    "print(\"ÉTAPE 1 : Chargement du dataset principal...\")\n",
    "\n",
    "# Dataset principal avec symptômes\n",
    "disease_symptom_path = BASE_PATH / \"Disease Symptom\" / \"dataset.csv\"\n",
    "\n",
    "df_main = pd.read_csv(disease_symptom_path)\n",
    "print(f\" Dataset principal chargé: {df_main.shape[0]} lignes, {df_main.shape[1]} colonnes\")\n",
    "print(f\"   Maladies uniques: {df_main['Disease'].nunique() }\")\n"
   ]
  },
  {
   "cell_type": "code",
   "execution_count": 81,
   "id": "0488a7ec",
   "metadata": {},
   "outputs": [
    {
     "name": "stdout",
     "output_type": "stream",
     "text": [
      "\n",
      " Aperçu du dataset principal:\n",
      "            Disease   Symptom_1              Symptom_2              Symptom_3  \\\n",
      "0  Fungal infection     itching              skin_rash   nodal_skin_eruptions   \n",
      "1  Fungal infection   skin_rash   nodal_skin_eruptions    dischromic _patches   \n",
      "2  Fungal infection     itching   nodal_skin_eruptions    dischromic _patches   \n",
      "\n",
      "              Symptom_4 Symptom_5 Symptom_6 Symptom_7 Symptom_8 Symptom_9  \\\n",
      "0   dischromic _patches       NaN       NaN       NaN       NaN       NaN   \n",
      "1                   NaN       NaN       NaN       NaN       NaN       NaN   \n",
      "2                   NaN       NaN       NaN       NaN       NaN       NaN   \n",
      "\n",
      "  Symptom_10 Symptom_11 Symptom_12 Symptom_13 Symptom_14 Symptom_15  \\\n",
      "0        NaN        NaN        NaN        NaN        NaN        NaN   \n",
      "1        NaN        NaN        NaN        NaN        NaN        NaN   \n",
      "2        NaN        NaN        NaN        NaN        NaN        NaN   \n",
      "\n",
      "  Symptom_16 Symptom_17  \n",
      "0        NaN        NaN  \n",
      "1        NaN        NaN  \n",
      "2        NaN        NaN  \n"
     ]
    }
   ],
   "source": [
    "print(\"\\n Aperçu du dataset principal:\")\n",
    "print(df_main.head(3))"
   ]
  },
  {
   "cell_type": "markdown",
   "id": "d649f1fe",
   "metadata": {},
   "source": [
    "### Charger les datasets supplémentaires"
   ]
  },
  {
   "cell_type": "markdown",
   "id": "3cab100b",
   "metadata": {},
   "source": [
    "Dataset des descriptions"
   ]
  },
  {
   "cell_type": "code",
   "execution_count": 82,
   "id": "5eaab3b8",
   "metadata": {},
   "outputs": [
    {
     "name": "stdout",
     "output_type": "stream",
     "text": [
      "Descriptions chargées: 41 maladies\n"
     ]
    }
   ],
   "source": [
    "try:\n",
    "    desc_path = BASE_PATH / \"Disease Symptom\" / \"symptom_Description.csv\"\n",
    "    df_descriptions = pd.read_csv(desc_path)\n",
    "    print(f\"Descriptions chargées: {df_descriptions.shape[0]} maladies\")\n",
    "except Exception as e:\n",
    "    print(f\"Descriptions non trouvées: {e}\")\n",
    "    df_descriptions = None"
   ]
  },
  {
   "cell_type": "markdown",
   "id": "c9817cae",
   "metadata": {},
   "source": [
    "Dataset des précautions"
   ]
  },
  {
   "cell_type": "code",
   "execution_count": 83,
   "id": "46d6a657",
   "metadata": {},
   "outputs": [
    {
     "name": "stdout",
     "output_type": "stream",
     "text": [
      " Précautions chargées: 41 maladies\n"
     ]
    }
   ],
   "source": [
    "try:\n",
    "    prec_path = BASE_PATH / \"Disease Symptom\" / \"symptom_precaution.csv\"\n",
    "    df_precautions = pd.read_csv(prec_path)\n",
    "    print(f\" Précautions chargées: {df_precautions.shape[0]} maladies\")\n",
    "except Exception as e:\n",
    "    print(f\" Précautions non trouvées: {e}\")\n",
    "    df_precautions = None"
   ]
  },
  {
   "cell_type": "markdown",
   "id": "8a7b33cd",
   "metadata": {},
   "source": [
    "Dataset severity"
   ]
  },
  {
   "cell_type": "code",
   "execution_count": 84,
   "id": "fa8eab10",
   "metadata": {},
   "outputs": [
    {
     "name": "stdout",
     "output_type": "stream",
     "text": [
      "Sévérité chargée: 133 symptômes\n"
     ]
    }
   ],
   "source": [
    "try:\n",
    "    sev_path = BASE_PATH / \"Disease Symptom\" / \"Symptom-severity.csv\"\n",
    "    df_severity = pd.read_csv(sev_path)\n",
    "    print(f\"Sévérité chargée: {df_severity.shape[0]} symptômes\")\n",
    "except Exception as e:\n",
    "    print(f\"Sévérité non trouvée: {e}\")\n",
    "    df_severity = None"
   ]
  },
  {
   "cell_type": "code",
   "execution_count": 85,
   "id": "7057786e",
   "metadata": {},
   "outputs": [
    {
     "name": "stdout",
     "output_type": "stream",
     "text": [
      "['Disease', 'Symptom_1', 'Symptom_2', 'Symptom_3', 'Symptom_4', 'Symptom_5', 'Symptom_6', 'Symptom_7', 'Symptom_8', 'Symptom_9', 'Symptom_10', 'Symptom_11', 'Symptom_12', 'Symptom_13', 'Symptom_14', 'Symptom_15', 'Symptom_16', 'Symptom_17']\n"
     ]
    }
   ],
   "source": [
    "print(df_main.columns.tolist())"
   ]
  },
  {
   "cell_type": "markdown",
   "id": "04e71e4e",
   "metadata": {},
   "source": [
    "## Analyse exploratoire des données\n"
   ]
  },
  {
   "cell_type": "markdown",
   "id": "a3b6caa8",
   "metadata": {},
   "source": [
    "Identifier la colonne de maladie"
   ]
  },
  {
   "cell_type": "code",
   "execution_count": 86,
   "id": "d9827d46",
   "metadata": {},
   "outputs": [
    {
     "name": "stdout",
     "output_type": "stream",
     "text": [
      "   Colonne maladie: Disease\n"
     ]
    }
   ],
   "source": [
    "disease_column = df_main.columns[0]  #Première colonne\n",
    "print(f\"   Colonne maladie: {disease_column}\")"
   ]
  },
  {
   "cell_type": "markdown",
   "id": "ad451274",
   "metadata": {},
   "source": [
    "Compter les maladies uniques"
   ]
  },
  {
   "cell_type": "code",
   "execution_count": 87,
   "id": "e1866879",
   "metadata": {},
   "outputs": [
    {
     "name": "stdout",
     "output_type": "stream",
     "text": [
      "Nombre de maladies: 41\n"
     ]
    }
   ],
   "source": [
    "unique_diseases=df_main[disease_column].unique()\n",
    "print(f\"Nombre de maladies: {len(unique_diseases)}\")"
   ]
  },
  {
   "cell_type": "markdown",
   "id": "81af6845",
   "metadata": {},
   "source": [
    "Distribution des maladies"
   ]
  },
  {
   "cell_type": "code",
   "execution_count": 88,
   "id": "e38dd0eb",
   "metadata": {},
   "outputs": [
    {
     "name": "stdout",
     "output_type": "stream",
     "text": [
      "Top 10 maladies les plus fréquentes:\n",
      "   • Fungal infection: 120 cas\n",
      "   • Allergy: 120 cas\n",
      "   • GERD: 120 cas\n",
      "   • Chronic cholestasis: 120 cas\n",
      "   • Drug Reaction: 120 cas\n",
      "   • Peptic ulcer diseae: 120 cas\n",
      "   • AIDS: 120 cas\n",
      "   • Diabetes : 120 cas\n",
      "   • Gastroenteritis: 120 cas\n",
      "   • Bronchial Asthma: 120 cas\n"
     ]
    }
   ],
   "source": [
    "disease_counts = df_main[disease_column].value_counts()\n",
    "print(f\"Top 10 maladies les plus fréquentes:\")\n",
    "for disease, count in disease_counts.head(10).items():\n",
    "    print(f\"   • {disease}: {count} cas\")"
   ]
  },
  {
   "cell_type": "markdown",
   "id": "e46e033e",
   "metadata": {},
   "source": [
    "Analyser les symptomes"
   ]
  },
  {
   "cell_type": "code",
   "execution_count": 89,
   "id": "406c406d",
   "metadata": {},
   "outputs": [
    {
     "name": "stdout",
     "output_type": "stream",
     "text": [
      "Colonnes de symptômes: 17\n",
      "   ['Symptom_1', 'Symptom_2', 'Symptom_3', 'Symptom_4', 'Symptom_5']... (montrant 5 premières)\n"
     ]
    }
   ],
   "source": [
    "symptom_columns = [col for col in df_main.columns if 'Symptom' in col]\n",
    "print(f\"Colonnes de symptômes: {len(symptom_columns)}\")\n",
    "print(f\"   {symptom_columns[:5]}... (montrant 5 premières)\")"
   ]
  },
  {
   "cell_type": "markdown",
   "id": "4c198d67",
   "metadata": {},
   "source": [
    "Nettoyage des données"
   ]
  },
  {
   "cell_type": "code",
   "execution_count": 90,
   "id": "a93731c4",
   "metadata": {},
   "outputs": [],
   "source": [
    "df_clean=df_main.copy()\n",
    "df_clean['Disease']=df_clean['Disease'].str.strip()\n"
   ]
  },
  {
   "cell_type": "markdown",
   "id": "25781d02",
   "metadata": {},
   "source": [
    "Remplacer les valeurs manquantes"
   ]
  },
  {
   "cell_type": "code",
   "execution_count": 91,
   "id": "4555efe7",
   "metadata": {},
   "outputs": [
    {
     "name": "stdout",
     "output_type": "stream",
     "text": [
      "   Lignes après nettoyage: 4920\n"
     ]
    }
   ],
   "source": [
    "for col in symptom_columns:\n",
    "    df_clean[col]=df_clean[col].fillna('')\n",
    "    df_clean[col]=df_clean[col].str.strip()\n",
    "print(f\"   Lignes après nettoyage: {df_clean.shape[0]}\")"
   ]
  },
  {
   "cell_type": "markdown",
   "id": "a98afb9f",
   "metadata": {},
   "source": [
    "Ajouter un ID patient unique"
   ]
  },
  {
   "cell_type": "code",
   "execution_count": 92,
   "id": "2911a82b",
   "metadata": {},
   "outputs": [],
   "source": [
    "df_clean['Patient_ID']=np.arange(1, df_clean.shape[0]+1)"
   ]
  },
  {
   "cell_type": "markdown",
   "id": "1faeac51",
   "metadata": {},
   "source": [
    "Compter le nombre de symptômes par patient"
   ]
  },
  {
   "cell_type": "code",
   "execution_count": 93,
   "id": "8130a6fe",
   "metadata": {},
   "outputs": [],
   "source": [
    "def count_symptoms(row):\n",
    "  symptoms_cols=[col for col in df_clean.columns if 'Symptom in col']\n",
    "  count=0\n",
    "  for col in symptoms_cols:\n",
    "    if row[col] and str(row[col]).strip():\n",
    "      count+=1\n",
    "  return count\n",
    "df_clean['Symptom_Count'] = df_clean.apply(count_symptoms, axis=1)"
   ]
  },
  {
   "cell_type": "markdown",
   "id": "e103e786",
   "metadata": {},
   "source": [
    "Les id des patients se sont ajoutés, et le nombre des symptomes est calculé."
   ]
  },
  {
   "cell_type": "code",
   "execution_count": 94,
   "id": "65dd0d9a",
   "metadata": {},
   "outputs": [
    {
     "name": "stdout",
     "output_type": "stream",
     "text": [
      "   Moyenne de symptômes par patient: 9.45\n"
     ]
    }
   ],
   "source": [
    "print(f\"   Moyenne de symptômes par patient: {df_clean['Symptom_Count'].mean():.2f}\")"
   ]
  },
  {
   "cell_type": "markdown",
   "id": "adb1148d",
   "metadata": {},
   "source": [
    "Créer une colonne avec tous les symptomes concaténés."
   ]
  },
  {
   "cell_type": "code",
   "execution_count": 95,
   "id": "4075cd05",
   "metadata": {},
   "outputs": [
    {
     "name": "stdout",
     "output_type": "stream",
     "text": [
      "Symptômes concaténés créés\n",
      "   Patient_ID                                       All_Symptoms\n",
      "0           1  itching, skin_rash, nodal_skin_eruptions, disc...\n",
      "1           2  skin_rash, nodal_skin_eruptions, dischromic _p...\n",
      "2           3  itching, nodal_skin_eruptions, dischromic _pat...\n"
     ]
    }
   ],
   "source": [
    "def concatenate_symptoms(row):\n",
    "    symptom_cols = [col for col in df_clean.columns if 'Symptom' in col]\n",
    "    symptoms = []\n",
    "    for col in symptom_cols:\n",
    "        if row[col] and str(row[col]).strip():\n",
    "            symptoms.append(str(row[col]).strip())\n",
    "    return ', '.join(symptoms)\n",
    "df_clean['All_Symptoms'] = df_clean.apply(concatenate_symptoms, axis=1)\n",
    "print(\"Symptômes concaténés créés\")\n",
    "print(df_clean[['Patient_ID', 'All_Symptoms']].head(3))"
   ]
  },
  {
   "cell_type": "markdown",
   "id": "95e9a99e",
   "metadata": {},
   "source": [
    "### Ajout des métadonnées"
   ]
  },
  {
   "cell_type": "markdown",
   "id": "d7a0cc39",
   "metadata": {},
   "source": [
    "Traitement du dataset df_precautions"
   ]
  },
  {
   "cell_type": "code",
   "execution_count": 96,
   "id": "c093f019",
   "metadata": {},
   "outputs": [
    {
     "name": "stdout",
     "output_type": "stream",
     "text": [
      "Précautions concaténés créés\n",
      "0    stop irritation, consult nearest hospital, sto...\n",
      "1    Consult nearest hospital, avoid oily food, avo...\n",
      "2    apply calamine, cover area with bandage, nan, ...\n",
      "Name: All_Precautions, dtype: object\n"
     ]
    }
   ],
   "source": [
    "precaution_cols = [col for col in df_precautions.columns if 'Precaution' in col]\n",
    "def concatenate_precautions(row):\n",
    "    precautions = []\n",
    "    for col in precaution_cols:\n",
    "        if row[col] and str(row[col]).strip():\n",
    "            precautions.append(str(row[col]).strip())\n",
    "    return ', '.join(precautions)\n",
    "df_precautions['All_Precautions'] = df_precautions.apply(concatenate_precautions, axis=1)\n",
    "print(\"Précautions concaténés créés\")\n",
    "print(df_precautions['All_Precautions'].head(3))"
   ]
  },
  {
   "cell_type": "markdown",
   "id": "60ef0f93",
   "metadata": {},
   "source": [
    "Traitement du dataset df_severity"
   ]
  },
  {
   "cell_type": "code",
   "execution_count": 97,
   "id": "6e1631b8",
   "metadata": {},
   "outputs": [],
   "source": [
    "df_severity['Symptom']=df_severity['Symptom'].str.strip()"
   ]
  },
  {
   "cell_type": "markdown",
   "id": "72edfd80",
   "metadata": {},
   "source": [
    "#### Merger les métadonnées"
   ]
  },
  {
   "cell_type": "code",
   "execution_count": 98,
   "id": "9cc10019",
   "metadata": {},
   "outputs": [],
   "source": [
    "df_enriched=df_clean.merge(df_descriptions, on='Disease',how='left')\n",
    "df_enriched=df_enriched.merge(df_precautions[['Disease','All_Precautions']], on='Disease',how='left')"
   ]
  },
  {
   "cell_type": "code",
   "execution_count": 100,
   "id": "5306aa68",
   "metadata": {},
   "outputs": [
    {
     "name": "stdout",
     "output_type": "stream",
     "text": [
      "Score de sévérité calculé\n",
      "Dataset enrichi: 4920 lignes, 24 colonnes\n"
     ]
    }
   ],
   "source": [
    "def calculate_severity_score(row):\n",
    "    symptom_cols = [col for col in df_clean.columns if 'Symptom' in col]\n",
    "    total_severity = 0\n",
    "    symptom_count = 0\n",
    "    \n",
    "    for col in symptom_cols:\n",
    "        symptom = row[col]\n",
    "        if symptom and str(symptom).strip():\n",
    "            # Chercher la sévérité de ce symptôme\n",
    "            severity_row = df_severity[df_severity['Symptom'].str.lower() == str(symptom).lower()]\n",
    "            if not severity_row.empty:\n",
    "                total_severity += severity_row['weight'].values[0]\n",
    "                symptom_count += 1\n",
    "    \n",
    "    return total_severity / symptom_count if symptom_count > 0 else 0\n",
    "\n",
    "df_enriched['Severity_Score'] = df_enriched.apply(calculate_severity_score, axis=1)\n",
    "print(\"Score de sévérité calculé\")\n",
    "print(f\"Dataset enrichi: {df_enriched.shape[0]} lignes, {df_enriched.shape[1]} colonnes\")\n"
   ]
  },
  {
   "cell_type": "code",
   "execution_count": 102,
   "id": "ca5dfaa3",
   "metadata": {},
   "outputs": [
    {
     "data": {
      "text/plain": [
       "0    2.666667\n",
       "1    3.500000\n",
       "2    2.500000\n",
       "3    2.000000\n",
       "4    2.666667\n",
       "Name: Severity_Score, dtype: float64"
      ]
     },
     "execution_count": 102,
     "metadata": {},
     "output_type": "execute_result"
    }
   ],
   "source": [
    "df_enriched['Severity_Score'].head()"
   ]
  },
  {
   "cell_type": "markdown",
   "id": "43ddc41a",
   "metadata": {},
   "source": [
    "### Création de différents versions des datasets"
   ]
  },
  {
   "cell_type": "markdown",
   "id": "7fc5666a",
   "metadata": {},
   "source": [
    "Version 1 : Dataset complet enrichi"
   ]
  },
  {
   "cell_type": "code",
   "execution_count": 103,
   "id": "88789848",
   "metadata": {},
   "outputs": [
    {
     "name": "stdout",
     "output_type": "stream",
     "text": [
      "Dataset complet sauvegardé: C:\\Users\\Infinix\\Desktop\\Projet fil rouge\\data\\processed\\medical_dataset_full.csv\n",
      "   Taille: (4920, 24)\n"
     ]
    }
   ],
   "source": [
    "output_full = OUTPUT_PATH / \"medical_dataset_full.csv\"\n",
    "df_enriched.to_csv(output_full, index=False)\n",
    "print(f\"Dataset complet sauvegardé: {output_full}\")\n",
    "print(f\"   Taille: {df_enriched.shape}\")\n"
   ]
  },
  {
   "cell_type": "markdown",
   "id": "91204b95",
   "metadata": {},
   "source": [
    "Version 2 : Dataset pour ML (colonnes essentielles)"
   ]
  },
  {
   "cell_type": "code",
   "execution_count": 104,
   "id": "f9a7c09e",
   "metadata": {},
   "outputs": [
    {
     "name": "stdout",
     "output_type": "stream",
     "text": [
      "Dataset ML sauvegardé: C:\\Users\\Infinix\\Desktop\\Projet fil rouge\\data\\processed\\medical_dataset_ml.csv\n",
      "   Taille: (4920, 5)\n"
     ]
    }
   ],
   "source": [
    "ml_columns = ['Patient_ID', 'All_Symptoms', 'Symptom_Count', \n",
    "              'Severity_Score', 'Disease']\n",
    "df_ml = df_enriched[ml_columns].copy()\n",
    "output_ml = OUTPUT_PATH / \"medical_dataset_ml.csv\"\n",
    "df_ml.to_csv(output_ml, index=False)\n",
    "print(f\"Dataset ML sauvegardé: {output_ml}\")\n",
    "print(f\"   Taille: {df_ml.shape}\")"
   ]
  },
  {
   "cell_type": "markdown",
   "id": "dc76a576",
   "metadata": {},
   "source": [
    "Version 3 : Dataset avec symptômes individuels (format original nettoyé)"
   ]
  },
  {
   "cell_type": "code",
   "execution_count": 105,
   "id": "d4fc076b",
   "metadata": {},
   "outputs": [
    {
     "name": "stdout",
     "output_type": "stream",
     "text": [
      "Dataset symptômes sauvegardé: C:\\Users\\Infinix\\Desktop\\Projet fil rouge\\data\\processed\\medical_dataset_symptoms.csv\n"
     ]
    }
   ],
   "source": [
    "output_symptoms = OUTPUT_PATH / \"medical_dataset_symptoms.csv\"\n",
    "symptom_disease_cols = symptom_columns + ['Disease', 'Patient_ID']\n",
    "df_symptoms = df_enriched[symptom_disease_cols].copy()\n",
    "df_symptoms.to_csv(output_symptoms, index=False)\n",
    "print(f\"Dataset symptômes sauvegardé: {output_symptoms}\")"
   ]
  },
  {
   "cell_type": "markdown",
   "id": "2107f330",
   "metadata": {},
   "source": [
    "Version 4 : Métadonnées des maladies"
   ]
  },
  {
   "cell_type": "code",
   "execution_count": 106,
   "id": "ce63ae10",
   "metadata": {},
   "outputs": [
    {
     "name": "stdout",
     "output_type": "stream",
     "text": [
      "Métadonnées maladies sauvegardées: C:\\Users\\Infinix\\Desktop\\Projet fil rouge\\data\\processed\\disease_metadata.csv\n"
     ]
    }
   ],
   "source": [
    "disease_metadata = df_enriched[['Disease', 'Description', 'All_Precautions']].drop_duplicates()\n",
    "output_metadata = OUTPUT_PATH / \"disease_metadata.csv\"\n",
    "disease_metadata.to_csv(output_metadata, index=False)\n",
    "print(f\"Métadonnées maladies sauvegardées: {output_metadata}\")"
   ]
  },
  {
   "cell_type": "code",
   "execution_count": 107,
   "id": "6a9e1812",
   "metadata": {},
   "outputs": [
    {
     "data": {
      "text/html": [
       "<div>\n",
       "<style scoped>\n",
       "    .dataframe tbody tr th:only-of-type {\n",
       "        vertical-align: middle;\n",
       "    }\n",
       "\n",
       "    .dataframe tbody tr th {\n",
       "        vertical-align: top;\n",
       "    }\n",
       "\n",
       "    .dataframe thead th {\n",
       "        text-align: right;\n",
       "    }\n",
       "</style>\n",
       "<table border=\"1\" class=\"dataframe\">\n",
       "  <thead>\n",
       "    <tr style=\"text-align: right;\">\n",
       "      <th></th>\n",
       "      <th>Disease</th>\n",
       "      <th>Description</th>\n",
       "      <th>All_Precautions</th>\n",
       "    </tr>\n",
       "  </thead>\n",
       "  <tbody>\n",
       "    <tr>\n",
       "      <th>0</th>\n",
       "      <td>Fungal infection</td>\n",
       "      <td>In humans, fungal infections occur when an inv...</td>\n",
       "      <td>bath twice, use detol or neem in bathing water...</td>\n",
       "    </tr>\n",
       "    <tr>\n",
       "      <th>10</th>\n",
       "      <td>Allergy</td>\n",
       "      <td>An allergy is an immune system response to a f...</td>\n",
       "      <td>apply calamine, cover area with bandage, nan, ...</td>\n",
       "    </tr>\n",
       "    <tr>\n",
       "      <th>20</th>\n",
       "      <td>GERD</td>\n",
       "      <td>Gastroesophageal reflux disease, or GERD, is a...</td>\n",
       "      <td>avoid fatty spicy food, avoid lying down after...</td>\n",
       "    </tr>\n",
       "    <tr>\n",
       "      <th>30</th>\n",
       "      <td>Chronic cholestasis</td>\n",
       "      <td>Chronic cholestatic diseases, whether occurrin...</td>\n",
       "      <td>cold baths, anti itch medicine, consult doctor...</td>\n",
       "    </tr>\n",
       "    <tr>\n",
       "      <th>40</th>\n",
       "      <td>Drug Reaction</td>\n",
       "      <td>An adverse drug reaction (ADR) is an injury ca...</td>\n",
       "      <td>stop irritation, consult nearest hospital, sto...</td>\n",
       "    </tr>\n",
       "  </tbody>\n",
       "</table>\n",
       "</div>"
      ],
      "text/plain": [
       "                Disease                                        Description  \\\n",
       "0      Fungal infection  In humans, fungal infections occur when an inv...   \n",
       "10              Allergy  An allergy is an immune system response to a f...   \n",
       "20                 GERD  Gastroesophageal reflux disease, or GERD, is a...   \n",
       "30  Chronic cholestasis  Chronic cholestatic diseases, whether occurrin...   \n",
       "40        Drug Reaction  An adverse drug reaction (ADR) is an injury ca...   \n",
       "\n",
       "                                      All_Precautions  \n",
       "0   bath twice, use detol or neem in bathing water...  \n",
       "10  apply calamine, cover area with bandage, nan, ...  \n",
       "20  avoid fatty spicy food, avoid lying down after...  \n",
       "30  cold baths, anti itch medicine, consult doctor...  \n",
       "40  stop irritation, consult nearest hospital, sto...  "
      ]
     },
     "execution_count": 107,
     "metadata": {},
     "output_type": "execute_result"
    }
   ],
   "source": [
    "disease_metadata.head()"
   ]
  },
  {
   "cell_type": "markdown",
   "id": "fc0d862d",
   "metadata": {},
   "source": [
    "### GÉNÉRER STATISTIQUES"
   ]
  },
  {
   "cell_type": "code",
   "execution_count": 109,
   "id": "d2f7e753",
   "metadata": {},
   "outputs": [
    {
     "name": "stdout",
     "output_type": "stream",
     "text": [
      "Statistiques du dataset:\n",
      "{'dataset_info': {'total_patients': 4920, 'total_diseases': 41, 'total_unique_symptoms': 133, 'avg_symptoms_per_patient': 9.448780487804878, 'max_symptoms_per_patient': 19, 'min_symptoms_per_patient': 5, 'avg_severity_score': 4.130582342394574}, 'disease_distribution': {'Fungal infection': 120, 'Allergy': 120, 'GERD': 120, 'Chronic cholestasis': 120, 'Drug Reaction': 120, 'Peptic ulcer diseae': 120, 'AIDS': 120, 'Diabetes': 120, 'Gastroenteritis': 120, 'Bronchial Asthma': 120, 'Hypertension': 120, 'Migraine': 120, 'Cervical spondylosis': 120, 'Paralysis (brain hemorrhage)': 120, 'Jaundice': 120, 'Malaria': 120, 'Chicken pox': 120, 'Dengue': 120, 'Typhoid': 120, 'hepatitis A': 120, 'Hepatitis B': 120, 'Hepatitis C': 120, 'Hepatitis D': 120, 'Hepatitis E': 120, 'Alcoholic hepatitis': 120, 'Tuberculosis': 120, 'Common Cold': 120, 'Pneumonia': 120, 'Dimorphic hemmorhoids(piles)': 120, 'Heart attack': 120, 'Varicose veins': 120, 'Hypothyroidism': 120, 'Hyperthyroidism': 120, 'Hypoglycemia': 120, 'Osteoarthristis': 120, 'Arthritis': 120, '(vertigo) Paroymsal  Positional Vertigo': 120, 'Acne': 120, 'Urinary tract infection': 120, 'Psoriasis': 120, 'Impetigo': 120}, 'top_10_diseases': {'Fungal infection': 120, 'Allergy': 120, 'GERD': 120, 'Chronic cholestasis': 120, 'Drug Reaction': 120, 'Peptic ulcer diseae': 120, 'AIDS': 120, 'Diabetes': 120, 'Gastroenteritis': 120, 'Bronchial Asthma': 120}, 'columns_full_dataset': ['Disease', 'Symptom_1', 'Symptom_2', 'Symptom_3', 'Symptom_4', 'Symptom_5', 'Symptom_6', 'Symptom_7', 'Symptom_8', 'Symptom_9', 'Symptom_10', 'Symptom_11', 'Symptom_12', 'Symptom_13', 'Symptom_14', 'Symptom_15', 'Symptom_16', 'Symptom_17', 'Patient_ID', 'Symptom_Count', 'All_Symptoms', 'Description', 'All_Precautions', 'Severity_Score'], 'columns_ml_dataset': ['Patient_ID', 'All_Symptoms', 'Symptom_Count', 'Severity_Score', 'Disease'], 'data_quality': {'missing_values': 360, 'duplicate_rows': 0, 'completeness_rate': 99.6951219512195}}\n"
     ]
    }
   ],
   "source": [
    "stats = {\n",
    "    'dataset_info': {\n",
    "        'total_patients': int(df_enriched.shape[0]),\n",
    "        'total_diseases': int(df_enriched['Disease'].nunique()),\n",
    "        'total_unique_symptoms': len(df_severity),\n",
    "        'avg_symptoms_per_patient': float(df_enriched['Symptom_Count'].mean()),\n",
    "        'max_symptoms_per_patient': int(df_enriched['Symptom_Count'].max()),\n",
    "        'min_symptoms_per_patient': int(df_enriched['Symptom_Count'].min()),\n",
    "        'avg_severity_score': float(df_enriched['Severity_Score'].mean())\n",
    "    },\n",
    "    'disease_distribution': df_enriched['Disease'].value_counts().to_dict(),\n",
    "    'top_10_diseases': df_enriched['Disease'].value_counts().head(10).to_dict(),\n",
    "    'columns_full_dataset': df_enriched.columns.tolist(),\n",
    "    'columns_ml_dataset': df_ml.columns.tolist(),\n",
    "    'data_quality': {\n",
    "        'missing_values': int(df_enriched.isnull().sum().sum()),\n",
    "        'duplicate_rows': int(df_enriched.duplicated().sum()),\n",
    "        'completeness_rate': float((1 - df_enriched.isnull().sum().sum() / \n",
    "                                    (df_enriched.shape[0] * df_enriched.shape[1])) * 100)\n",
    "    }\n",
    "}\n",
    "print(\"Statistiques du dataset:\")\n",
    "print(stats)\n"
   ]
  },
  {
   "cell_type": "markdown",
   "id": "6d33b105",
   "metadata": {},
   "source": [
    "Sauvegarder les statistiques"
   ]
  },
  {
   "cell_type": "code",
   "execution_count": 110,
   "id": "d3e63c75",
   "metadata": {},
   "outputs": [
    {
     "name": "stdout",
     "output_type": "stream",
     "text": [
      "Statistiques sauvegardées: C:\\Users\\Infinix\\Desktop\\Projet fil rouge\\data\\processed\\dataset_statistics.json\n"
     ]
    }
   ],
   "source": [
    "stats_file = OUTPUT_PATH / \"dataset_statistics.json\"\n",
    "with open(stats_file, 'w', encoding='utf-8') as f:\n",
    "    json.dump(stats, f, indent=2, ensure_ascii=False)\n",
    "print(f\"Statistiques sauvegardées: {stats_file}\")"
   ]
  },
  {
   "cell_type": "code",
   "execution_count": null,
   "id": "47984026",
   "metadata": {},
   "outputs": [],
   "source": []
  }
 ],
 "metadata": {
  "kernelspec": {
   "display_name": "venv",
   "language": "python",
   "name": "python3"
  },
  "language_info": {
   "codemirror_mode": {
    "name": "ipython",
    "version": 3
   },
   "file_extension": ".py",
   "mimetype": "text/x-python",
   "name": "python",
   "nbconvert_exporter": "python",
   "pygments_lexer": "ipython3",
   "version": "3.13.3"
  }
 },
 "nbformat": 4,
 "nbformat_minor": 5
}
